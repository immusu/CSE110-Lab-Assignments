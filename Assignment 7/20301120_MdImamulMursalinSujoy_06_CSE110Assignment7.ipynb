{
 "cells": [
  {
   "cell_type": "markdown",
   "metadata": {
    "colab_type": "text",
    "id": "oMYzsTcnHEll"
   },
   "source": [
    "# CSE110 Assignment 7\n",
    "\n",
    "\n",
    "## Write the Python code of the following problems:\n",
    "**<font color='red'>[MUST MAINTAIN VARIABLE NAMING CONVENTIONS FOR ALL THE TASKS]</font>**"
   ]
  },
  {
   "cell_type": "markdown",
   "metadata": {
    "colab_type": "text",
    "id": "jT-t2zlnHEll"
   },
   "source": [
    "### Task 1\n",
    "\n",
    "Given a list named my_list. <br/>\n",
    "my_list=[10,1,20,3,6,2,5,11,15,2,12,14,17,18,29] <br/>\n",
    "Now use bubble sort to sort my_list into ascending order.\n",
    "\n",
    "**Output**<br/>\n",
    "[1, 2, 2, 3, 5, 6, 10, 11, 12, 14, 15, 17, 18, 20, 29]"
   ]
  },
  {
   "cell_type": "code",
   "execution_count": 1,
   "metadata": {
    "colab": {},
    "colab_type": "code",
    "id": "7qXVakLgHElm"
   },
   "outputs": [
    {
     "name": "stdout",
     "output_type": "stream",
     "text": [
      "[1, 2, 2, 3, 5, 6, 10, 11, 12, 14, 15, 17, 18, 20, 29]\n"
     ]
    }
   ],
   "source": [
    "my_list=[10,1,20,3,6,2,5,11,15,2,12,14,17,18,29]\n",
    "\n",
    "for i1 in range(len(my_list)-1):\n",
    "    \n",
    "    for i2 in range(len(my_list)-1-i1):\n",
    "        if my_list[i2]>my_list[i2+1]:\n",
    "            temp=my_list[i2]\n",
    "            my_list[i2]=my_list[i2+1]\n",
    "            my_list[i2+1]=temp\n",
    "\n",
    "print(my_list)"
   ]
  },
  {
   "cell_type": "markdown",
   "metadata": {
    "colab_type": "text",
    "id": "w1QgeWd2HElp"
   },
   "source": [
    "### Task 2\n",
    "\n",
    "Given a list named my_list. <br/>\n",
    "my_list=[10,1,20,3,6,2,5,11,15,2,12,14,17,18,29] <br/>\n",
    "Now use selection sort to sort my_list into ascending order.\n",
    "\n",
    "**Output**<br/>\n",
    "[1, 2, 2, 3, 5, 6, 10, 11, 12, 14, 15, 17, 18, 20, 29]\n",
    "\n"
   ]
  },
  {
   "cell_type": "code",
   "execution_count": 2,
   "metadata": {
    "colab": {},
    "colab_type": "code",
    "id": "am0B_8ICHElq"
   },
   "outputs": [
    {
     "name": "stdout",
     "output_type": "stream",
     "text": [
      "[1, 2, 2, 3, 5, 6, 10, 11, 12, 14, 15, 17, 18, 20, 29]\n"
     ]
    }
   ],
   "source": [
    "my_list=[10,1,20,3,6,2,5,11,15,2,12,14,17,18,29]\n",
    "\n",
    "for i1 in range(len(my_list)-1):\n",
    "    min_idx=i1\n",
    "    \n",
    "    for i2 in range(i1+1,len(my_list)):\n",
    "        if my_list[i2]<my_list[min_idx]:\n",
    "            min_idx=i2\n",
    "    \n",
    "    temp=my_list[min_idx]\n",
    "    my_list[min_idx]=my_list[i1]\n",
    "    my_list[i1]=temp\n",
    "    \n",
    "print(my_list)"
   ]
  },
  {
   "cell_type": "markdown",
   "metadata": {
    "colab_type": "text",
    "id": "j4ffr2CAHElt"
   },
   "source": [
    "### Task  3\n",
    "\n",
    "Given a list named my_list. <br/>\n",
    "my_list=[10,1,20,3,6,2,5,11,15,2,12,14,17,18,29] <br/>\n",
    "Now use any of the two sorts used above to sort the list in descending order.\n",
    "\n",
    "**Output**<br/>\n",
    "[29, 20, 18, 17, 15, 14, 12, 11, 10, 6, 5, 3, 2, 2, 1]\n"
   ]
  },
  {
   "cell_type": "code",
   "execution_count": 3,
   "metadata": {
    "colab": {},
    "colab_type": "code",
    "id": "n2X3YR-_HElt"
   },
   "outputs": [
    {
     "name": "stdout",
     "output_type": "stream",
     "text": [
      "[29, 20, 18, 17, 15, 14, 12, 11, 10, 6, 5, 3, 2, 2, 1]\n"
     ]
    }
   ],
   "source": [
    "my_list=[10,1,20,3,6,2,5,11,15,2,12,14,17,18,29]\n",
    "\n",
    "for i1 in range(len(my_list)-1):\n",
    "    \n",
    "    for i2 in range(len(my_list)-1-i1):\n",
    "        if my_list[i2]<my_list[i2+1]:\n",
    "            temp=my_list[i2]\n",
    "            my_list[i2]=my_list[i2+1]\n",
    "            my_list[i2+1]=temp\n",
    "\n",
    "print(my_list)"
   ]
  },
  {
   "cell_type": "markdown",
   "metadata": {
    "colab_type": "text",
    "id": "9iYiiTWWHElw"
   },
   "source": [
    "### Task 4\n",
    "\n",
    "Suppose you have a sitting arrangement of the students of the final exam in a list. The list contains the last two digits of their roll number.<br/>\n",
    "\n",
    "sitting_list=[10,30,20,70,11,15,22,16,58,100,12,56,70,80] <br/>\n",
    "\n",
    "Now you want to organize the sitting arrangement. You decided to sort all the students in the even indices into ascending order and all the students in the odd indices  into descending order.  <br/>\n",
    "\n",
    "So write a python program that organizes the list for you the way you decided.<br/>\n",
    "\n",
    "\n",
    "**Sample Output**<br/>\n",
    "[10, 100, 11, 80, 12, 70, 20, 56, 22, 30, 58, 16, 70, 15]"
   ]
  },
  {
   "cell_type": "code",
   "execution_count": 4,
   "metadata": {
    "colab": {},
    "colab_type": "code",
    "id": "nPdUAKDJHElw"
   },
   "outputs": [
    {
     "name": "stdout",
     "output_type": "stream",
     "text": [
      "[10, 100, 11, 80, 12, 70, 20, 56, 22, 30, 58, 16, 70, 15]\n"
     ]
    }
   ],
   "source": [
    "sitting_list=[10,30,20,70,11,15,22,16,58,100,12,56,70,80]\n",
    "\n",
    "odd_list=[]\n",
    "even_list=[]\n",
    "final_sorted=[]\n",
    "\n",
    "for i in range(len(sitting_list)):\n",
    "    if i%2==0:\n",
    "        odd_list.append(sitting_list[i])\n",
    "    else:\n",
    "        even_list.append(sitting_list[i])\n",
    "\n",
    "for i1 in range(len(odd_list)-1):\n",
    "    for i2 in range(len(odd_list)-1-i1):\n",
    "        if odd_list[i2]>odd_list[i2+1]:\n",
    "            temp=odd_list[i2]\n",
    "            odd_list[i2]=odd_list[i2+1]\n",
    "            odd_list[i2+1]=temp\n",
    "            \n",
    "for i1 in range(len(even_list)-1):\n",
    "    for i2 in range(len(even_list)-1-i1):\n",
    "        if even_list[i2]<even_list[i2+1]:\n",
    "            temp=even_list[i2]\n",
    "            even_list[i2]=even_list[i2+1]\n",
    "            even_list[i2+1]=temp\n",
    "\n",
    "for idx in range(len(even_list)):\n",
    "    final_sorted.append(odd_list[idx])\n",
    "    final_sorted.append(even_list[idx])\n",
    "    \n",
    "print(final_sorted)"
   ]
  },
  {
   "cell_type": "markdown",
   "metadata": {
    "colab_type": "text",
    "id": "oVR1Tsa0HElz"
   },
   "source": [
    "### Task 5\n",
    "\n",
    "Suppose a list contains the final exam results of CSE110, PHY111, and MAT110 of each student in a listed form. Your task is to sort the list based on a course name that will be given by the user and print the names after sorting. <br/>\n",
    "\n",
    "For example, a list looks like <br/>\n",
    "Lst = [ [‘Farzad’,95,87,91] , [‘Mahjabin’,92,90,83], [‘Sadman’,87,92,80], [‘Nakhla’,85,94,90] ] <br/>\n",
    "where for each list, 1st index is name, 2nd index is CSE110, 3rd index is PHY111 and 4th index is MAT110. \n",
    "\n",
    "**Sample Input**<br/>\n",
    "MAT110\n",
    "\n",
    "**Sample Output**<br/>\n",
    "Farzad <br/>\n",
    "Nakhla <br/>\n",
    "Mahjabin <br/>\n",
    "Sadman\n",
    "\n",
    "**Hint:**<br/>\n",
    "Nested list can be accessed by listname[firstIndex][secondIndex] like lst[0][0] will give Farzad\n"
   ]
  },
  {
   "cell_type": "code",
   "execution_count": 7,
   "metadata": {
    "colab": {},
    "colab_type": "code",
    "id": "539b2P1NHElz"
   },
   "outputs": [
    {
     "name": "stdout",
     "output_type": "stream",
     "text": [
      "MAT110\n",
      "Farzad\n",
      "Nakhla\n",
      "Mahjabin\n",
      "Sadman\n"
     ]
    }
   ],
   "source": [
    "Lst=[['Farzad',95,87,91] , ['Mahjabin',92,90,83], ['Sadman',87,92,80], ['Nakhla',85,94,90]]\n",
    "user_in=input()\n",
    "\n",
    "if user_in=='CSE110':\n",
    "    sub_idx=1\n",
    "elif user_in=='PHY111':\n",
    "    sub_idx=2\n",
    "elif user_in=='MAT110':\n",
    "    sub_idx=3\n",
    "\n",
    "for i1 in range(len(Lst)-1):\n",
    "    for i2 in range(len(Lst)-1-i1):\n",
    "        if Lst[i2][sub_idx]<Lst[i2+1][sub_idx]:\n",
    "            temp=Lst[i2]\n",
    "            Lst[i2]=Lst[i2+1]\n",
    "            Lst[i2+1]=temp\n",
    "    \n",
    "for idx in Lst:\n",
    "    print(idx[0])"
   ]
  },
  {
   "cell_type": "markdown",
   "metadata": {
    "colab_type": "text",
    "id": "B0Rqbyi4HEl2"
   },
   "source": [
    "### Task 6\n",
    "\n",
    "Suppose you have a list named my_list. Your task is to sort the list and print the count of numbers that have changed their position. <br/>\n",
    "my_list = [4,2,3,1,6,5] <br/>\n",
    "Sorted list would be [1,2,3,4,5,6] where 4 numbers have changed their position.\n",
    "\n",
    "\n",
    "**Sample Output**<br/>\n",
    "4"
   ]
  },
  {
   "cell_type": "code",
   "execution_count": 8,
   "metadata": {
    "colab": {},
    "colab_type": "code",
    "id": "AMc8jAa7HEl2"
   },
   "outputs": [
    {
     "name": "stdout",
     "output_type": "stream",
     "text": [
      "4\n"
     ]
    }
   ],
   "source": [
    "my_list=[4,2,3,1,6,5]\n",
    "\n",
    "sorted_list=my_list.copy()\n",
    "counter=0\n",
    "\n",
    "for i1 in range(len(sorted_list)-1):\n",
    "    for i2 in range(len(sorted_list)-1-i1):\n",
    "        if sorted_list[i2]>sorted_list[i2+1]:\n",
    "            temp=sorted_list[i2]\n",
    "            sorted_list[i2]=sorted_list[i2+1]\n",
    "            sorted_list[i2+1]=temp\n",
    "            \n",
    "for idx in range(len(my_list)):\n",
    "    if my_list[idx]!=sorted_list[idx]:\n",
    "        counter+=1\n",
    "        \n",
    "print(counter)"
   ]
  },
  {
   "cell_type": "markdown",
   "metadata": {
    "colab_type": "text",
    "id": "iIH5n0sJHEl5"
   },
   "source": [
    "### Task 7\n",
    "\n",
    "Write a python program that takes two lists from the user, merges the two lists, sorts the list, and find the median of the elements of the two lists.\n",
    "\n",
    "**Sample Input 1**<br/>\n",
    "list_one= [1,2,1,4] <br/>\n",
    "list_two= [5,4,1]\n",
    "\n",
    "\n",
    "**Sample Output 1**<br/>\n",
    "Sorted list= [1, 1, 1, 2, 4, 4, 5] <br/>\n",
    "Median = 2\n",
    "\n",
    "**Sample Input 2**<br/>\n",
    "list_one= [1,7,9,10] <br/>\n",
    "list_two= [2,7,6,5]\n",
    "\n",
    "\n",
    "**Sample Output 2**<br/>\n",
    "Sorted list=[1, 2, 5, 6, 7, 7, 9, 10] <br/>\n",
    "Median=6.5\n",
    "\n"
   ]
  },
  {
   "cell_type": "code",
   "execution_count": 10,
   "metadata": {
    "colab": {},
    "colab_type": "code",
    "id": "KsFxC7XbHEl6"
   },
   "outputs": [
    {
     "name": "stdout",
     "output_type": "stream",
     "text": [
      "1,7,9,10\n",
      "2,7,6,5\n",
      "Sorted list = [1, 2, 5, 6, 7, 7, 9, 10]\n",
      "Median = 6.5\n"
     ]
    }
   ],
   "source": [
    "user_in1=input()\n",
    "user_in2=input()\n",
    "list_one=user_in1.split(',')\n",
    "list_two=user_in2.split(',')\n",
    "\n",
    "new_list_str=list_one+list_two\n",
    "\n",
    "new_list=[]\n",
    "\n",
    "for idx in range(len(new_list_str)):\n",
    "    new_list.append(int(new_list_str[idx]))\n",
    "\n",
    "for i1 in range(len(new_list)-1):\n",
    "    for i2 in range(len(new_list)-1-i1):\n",
    "        if new_list[i2]>new_list[i2+1]:\n",
    "            temp=new_list[i2]\n",
    "            new_list[i2]=new_list[i2+1]\n",
    "            new_list[i2+1]=temp\n",
    "            \n",
    "median_idx=len(new_list)//2\n",
    "\n",
    "if len(new_list)%2==0:\n",
    "    median=(new_list[median_idx-1]+new_list[median_idx])/2\n",
    "else:\n",
    "    median=new_list[median_idx]\n",
    "    \n",
    "print('Sorted list =', new_list)\n",
    "print('Median =', median)"
   ]
  },
  {
   "cell_type": "markdown",
   "metadata": {
    "colab_type": "text",
    "id": "-XKiwBR1HEl8"
   },
   "source": [
    "### Task 8\n",
    "\n",
    "\n",
    "Write a python program that takes a list from user containing both positive and negative numbers. The program then finds two pairs of values whose summation is closest to zero.\n",
    "\n",
    "**Sample Input 1**<br/>\n",
    "list_one=[-10,15,2,4,-4,7,-8] \n",
    "\n",
    "\n",
    "**Sample Output 1**<br/>\n",
    "Two pairs which have the smallest sum = 4 and -4\n",
    "\n",
    "\n",
    "**Sample Input 2**<br/>\n",
    "list_one=[1,-8,4,-7,-20,26,70,-85]\n",
    "\n",
    "\n",
    "**Sample Output 2**<br/>\n",
    "Two pairs which have the smallest sum = 4 and -7"
   ]
  },
  {
   "cell_type": "code",
   "execution_count": 12,
   "metadata": {
    "colab": {},
    "colab_type": "code",
    "id": "5ORSGa5GHEl9"
   },
   "outputs": [
    {
     "name": "stdout",
     "output_type": "stream",
     "text": [
      "1,-8,4,-7,-20,26,70,-85\n",
      "Two pairs which have the smallest sum = 4 and -7\n"
     ]
    }
   ],
   "source": [
    "user_in=input()\n",
    "splited_in=user_in.split(',')\n",
    "list_one=[]\n",
    "\n",
    "for idx in range(len(splited_in)):\n",
    "    list_one.append(int(splited_in[idx]))\n",
    "\n",
    "close_sum=0\n",
    "close_idx1=0\n",
    "close_idx2=0\n",
    "\n",
    "for idx1 in range(len(list_one)-1):\n",
    "    for idx2 in range(idx1+1,len(list_one)):\n",
    "        if idx1==0 and idx2==1:\n",
    "            close_sum=list_one[idx1]+list_one[idx2]\n",
    "            close_idx1=idx1\n",
    "            close_idx2=idx2\n",
    "        if list_one[idx1]+list_one[idx2]<=0:\n",
    "            if list_one[idx1]+list_one[idx2]>=close_sum:\n",
    "                close_sum=list_one[idx1]+list_one[idx2]\n",
    "                close_idx1=idx1\n",
    "                close_idx2=idx2\n",
    "        if list_one[idx1]+list_one[idx2]>=0:\n",
    "            if list_one[idx1]+list_one[idx2]<=close_sum:\n",
    "                close_sum=list_one[idx1]+list_one[idx2]\n",
    "                close_idx1=idx1\n",
    "                close_idx2=idx2\n",
    "            \n",
    "print('Two pairs which have the smallest sum =', list_one[close_idx1], 'and', list_one[close_idx2])"
   ]
  },
  {
   "cell_type": "code",
   "execution_count": null,
   "metadata": {},
   "outputs": [],
   "source": []
  }
 ],
 "metadata": {
  "colab": {
   "collapsed_sections": [],
   "name": "CSE110 Assignment07.ipynb",
   "provenance": []
  },
  "kernelspec": {
   "display_name": "Python 3",
   "language": "python",
   "name": "python3"
  },
  "language_info": {
   "codemirror_mode": {
    "name": "ipython",
    "version": 3
   },
   "file_extension": ".py",
   "mimetype": "text/x-python",
   "name": "python",
   "nbconvert_exporter": "python",
   "pygments_lexer": "ipython3",
   "version": "3.7.6"
  }
 },
 "nbformat": 4,
 "nbformat_minor": 1
}
