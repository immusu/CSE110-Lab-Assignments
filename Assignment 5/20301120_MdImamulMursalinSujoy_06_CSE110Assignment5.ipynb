{
 "cells": [
  {
   "cell_type": "markdown",
   "metadata": {
    "colab_type": "text",
    "id": "mRHB9cBf5D7V"
   },
   "source": [
    "# CSE110 Assignment 5\n",
    "This assignment is to guide you to solve everything you have learned so far by implementing functions in Python. \n",
    "\n",
    "**<font color='red'>[MUST MAINTAIN VARIABLE NAMING CONVENTIONS FOR ALL THE TASKS]</font>**\n",
    "\n",
    "## Write the Python code of the following problems:\n"
   ]
  },
  {
   "cell_type": "markdown",
   "metadata": {
    "colab_type": "text",
    "id": "_uzpm0b85D7Z"
   },
   "source": [
    "### Task 1\n",
    "Write a function called **even_checker** that takes a number as an argument and prints whether the number is even or odd *inside the function*.\n",
    "\n",
    "**Example1:** \\\n",
    "**Function Call:**\\\n",
    "even_checker(5)\\\n",
    "**Output:**\\\n",
    "Odd!!\n",
    "\n",
    "=============================\n",
    "\n",
    "**Example2:** \\\n",
    "**Function Call:**\\\n",
    "even_checker(2)\\\n",
    "**Output:**\\\n",
    "Even!!\n",
    "\n"
   ]
  },
  {
   "cell_type": "code",
   "execution_count": 66,
   "metadata": {
    "colab": {},
    "colab_type": "code",
    "id": "tMMBecSe5D7a"
   },
   "outputs": [
    {
     "name": "stdout",
     "output_type": "stream",
     "text": [
      "5\n",
      "Odd!!\n"
     ]
    }
   ],
   "source": [
    "#user define function part:\n",
    "\n",
    "def even_checker(num):\n",
    "    if num%2==0:\n",
    "        return 'Even!!'\n",
    "    else:\n",
    "        return 'Odd!!'\n",
    "    \n",
    "#input taking and output printing part:\n",
    "\n",
    "print(even_checker(int(input())))"
   ]
  },
  {
   "cell_type": "markdown",
   "metadata": {
    "colab_type": "text",
    "id": "YFKgn6Yw5D7f"
   },
   "source": [
    "### Task 2\n",
    "Write a python function that takes the limit as an argument of the Fibonacci series and prints till that limit. \n",
    "\n",
    "**Function Call:**\\\n",
    "fibonacci(10)\\\n",
    "**Output:**\\\n",
    "0 1 1 2 3 5 8\\\n",
    "======================\\\n",
    "**Function Call:**\\\n",
    "fibonacci(5)\\\n",
    "**Output:**\\\n",
    "0 1 1 2 3 5 "
   ]
  },
  {
   "cell_type": "code",
   "execution_count": 50,
   "metadata": {
    "colab": {},
    "colab_type": "code",
    "id": "J4ab_IeA5D7g"
   },
   "outputs": [
    {
     "name": "stdout",
     "output_type": "stream",
     "text": [
      "8\n",
      "0 1 1 2 3 5 8 "
     ]
    }
   ],
   "source": [
    "#user define function part:\n",
    "\n",
    "def fibonacci(num):\n",
    "    first_val=0\n",
    "    second_val=1\n",
    "    counter=0\n",
    "    while True:\n",
    "        if counter<=1:\n",
    "            output=counter\n",
    "        else:\n",
    "            output=first_val+second_val\n",
    "            first_val=second_val\n",
    "            second_val=output\n",
    "            if output>num:\n",
    "                break\n",
    "        counter+=1\n",
    "        print(output, end=' ')\n",
    "\n",
    "#input taking part:\n",
    "\n",
    "fibonacci(int(input()))"
   ]
  },
  {
   "cell_type": "markdown",
   "metadata": {
    "colab_type": "text",
    "id": "rDY_xNcO5D7k"
   },
   "source": [
    "### Task 3\n",
    "Write a function called **foo_moo** that takes a number as an argument and **returns** the following statements according the below mention conditions. Then, finally prints the statement in the function call. \n",
    "\n",
    "* \tIf the number is divisible by 2, it should return \"Foo\".\n",
    "*   If the number is divisible by 3, it should return \"Moo\". \n",
    "*   If the number is divisible by both 2 and 3, it should return \"FooMoo\".\n",
    "*   Otherwise, it returns \"Boo\".\n",
    "\n",
    "**Example1:** \\\n",
    "**Function Call:**\\\n",
    "foo_moo(5)\\\n",
    "**Output:**\\\n",
    "Boo\n",
    "\n",
    "=================\n",
    "\n",
    "\n",
    "**Example2:** \\\n",
    "**Function Call:**\\\n",
    "foo_moo(4)\\\n",
    "**Output:**\\\n",
    "Foo\n",
    "\n",
    "=================\n",
    "\n",
    "\n",
    "**Example3:** \\\n",
    "**Function Call:**\\\n",
    "foo_moo(6)\\\n",
    "**Output:**\\\n",
    "FooMoo\n",
    "\n"
   ]
  },
  {
   "cell_type": "code",
   "execution_count": 68,
   "metadata": {
    "colab": {},
    "colab_type": "code",
    "id": "2roUcNrC5D7l"
   },
   "outputs": [
    {
     "name": "stdout",
     "output_type": "stream",
     "text": [
      "6\n",
      "FooMoo\n"
     ]
    }
   ],
   "source": [
    "#user define function part:\n",
    "\n",
    "def foo_moo(num):\n",
    "    if num%2==0 and num%3==0:\n",
    "        return 'FooMoo'\n",
    "    elif num%2==0:\n",
    "        return 'Foo'\n",
    "    elif num%3==0:\n",
    "        return 'Moo'\n",
    "    else:\n",
    "        return 'Boo'\n",
    "    \n",
    "#input taking and output printing part:\n",
    "\n",
    "print(foo_moo(int(input())))"
   ]
  },
  {
   "cell_type": "markdown",
   "metadata": {
    "colab_type": "text",
    "id": "nemw1U-i5D7s"
   },
   "source": [
    "### Task 4\n",
    "Write a python function that takes a string as an argument. Your task is to calculate the number of uppercase letters and lowercase letters and print them in the function. \n",
    "\n",
    "**Function Call:**\\\n",
    "function_name('The quick Sand Man')\\\n",
    "**Output:**\\\n",
    "No. of Uppercase characters : 3\\\n",
    "No. of Lowercase Characters: 12\\\n",
    "============================\\\n",
    "**Function Call:**\\\n",
    "function_name('HaRRy PotteR')\\\n",
    "**Output:**\\\n",
    "No. of Uppercase characters : 5\\\n",
    "No. of Lowercase Characters: 6\n"
   ]
  },
  {
   "cell_type": "code",
   "execution_count": 1,
   "metadata": {
    "colab": {},
    "colab_type": "code",
    "id": "4ZBb4Mcr5D7t"
   },
   "outputs": [
    {
     "name": "stdout",
     "output_type": "stream",
     "text": [
      "HaRRy PotteR\n",
      "No. of Uppercase chacters : 5\n",
      "No. of Lowercase chacters : 6\n"
     ]
    }
   ],
   "source": [
    "#user define function part:\n",
    "\n",
    "def case_checker(user_stri):\n",
    "    upper_count=0\n",
    "    lower_count=0\n",
    "    temp=user_stri.replace(' ','')\n",
    "    for i in temp:\n",
    "        if ord(i)<=90 and ord(i)>=65:\n",
    "            upper_count+=1\n",
    "        elif ord(i)<=122 and ord(i)>=97:\n",
    "            lower_count+=1\n",
    "    print('No. of Uppercase chacters :', upper_count)\n",
    "    print('No. of Lowercase chacters :', lower_count)\n",
    "\n",
    "#input taking part:\n",
    "    \n",
    "case_checker(input())"
   ]
  },
  {
   "cell_type": "markdown",
   "metadata": {
    "colab_type": "text",
    "id": "e9bojIHe5D7w"
   },
   "source": [
    "### Task 5\n",
    "Write a function called **calculate_tax** that takes 3 arguments: your age, salary, and current job designation.\n",
    "\n",
    "\n",
    "Your first task is to take these arguments as user input and pass these values to the function.\n",
    "\n",
    "Your second task is to implement the function and calculate the tax as the following conditions:\n",
    "*  **NO TAX IF YOU ARE LESS THAN 18 YEARS OLD.**\n",
    "*  **NO TAX IF YOU ARE THE PRESIDENT OF THE COMPANY** \n",
    "*  No tax if you get paid less than 10,000\n",
    "*  5% tax if you get paid between 10K and 20K\n",
    "*  10% tax if you get paid more than 20K\n",
    "\n",
    "\n",
    "Finally return this tax value. Then print the returned value in the function call.\n",
    "\n",
    "**Example1:** \\\n",
    "**Input:**\\\n",
    "16\\\n",
    "20000\\\n",
    "Student\\\n",
    "**Function Call:**\\\n",
    "calculate_tax(16, 20000, 'Student')\\\n",
    "**Output:**\\\n",
    "0\n",
    "\n",
    "===================================\n",
    "\n",
    "**Example2:** \\\n",
    "**Input:**\\\n",
    "20\\\n",
    "18000\\\n",
    "assistant manager\\\n",
    "**Function Call:**\\\n",
    "calculate_tax(20, 18000, 'assistant manager')\\\n",
    "**Output:**\\\n",
    "900.0\n",
    "\n",
    "\n",
    "===================================\n",
    "\n",
    "**Example3:** \\\n",
    "**Input:**\\\n",
    "20\\\n",
    "22000\\\n",
    "assistant manager\\\n",
    "**Function Call:**\\\n",
    "calculate_tax(20, 22000, 'Assistant manager')\\\n",
    "**Output:**\\\n",
    "2200.0\n",
    "\n",
    "===================================\n",
    "\n",
    "\n",
    "**Example4:** \\\n",
    "**Input:**\\\n",
    "20\\\n",
    "122000\\\n",
    "president\\\n",
    "**Function Call:**\\\n",
    "calculate_tax(20, 122000, 'president')\\\n",
    "**Output:**\\\n",
    "0\n",
    " \n",
    "\n",
    "**Hints:**\\\n",
    "Here the job designation is a string, so it can be written in both uppercase and lower cases. So, you need to check the value ignoring the case.\n"
   ]
  },
  {
   "cell_type": "code",
   "execution_count": 70,
   "metadata": {
    "colab": {},
    "colab_type": "code",
    "id": "M4oo-FKQ5D7x"
   },
   "outputs": [
    {
     "name": "stdout",
     "output_type": "stream",
     "text": [
      "20\n",
      "18000\n",
      "Assistant Manager\n",
      "900.0\n"
     ]
    }
   ],
   "source": [
    "#user define function part:\n",
    "\n",
    "def calculate_tax(age,salary,design):\n",
    "    temp=design.lower()\n",
    "    if age<18 or temp=='president' or salary<10000:\n",
    "        return 0\n",
    "    elif salary>=10000 and salary<=20000:\n",
    "        return salary*(5/100)\n",
    "    else:\n",
    "        return salary*(10/100)\n",
    "    \n",
    "#input taking and output printing part:\n",
    "\n",
    "print(calculate_tax(int(input()), int(input()), input()))"
   ]
  },
  {
   "cell_type": "markdown",
   "metadata": {
    "colab_type": "text",
    "id": "VXLQHyLp5D71"
   },
   "source": [
    "### Task 6\n",
    "Write a function which will take 1 argument, number of days.\n",
    "\n",
    "Your first task is to take the number of days as user input and pass the value to the function.\n",
    " \n",
    "Your second task is to implement the function and calculate the total number of years, number of months, and the remaining number of days as output. No need to return any value, print inside the function. \n",
    "\n",
    "**Note:** Assume, each year to be 365 days and month to be 30 days.\n",
    "\n",
    "**Hint:** Divide and mod the main input to get the desired output.\n",
    "\n",
    "**Input:**\\\n",
    "4330\\\n",
    "**Function Call:**\\\n",
    "function_name(4330)\\\n",
    "**Output:**\\\n",
    "11 years, 10 months and 15 days\n",
    "\n",
    "================================\n",
    "\n",
    "**Input:**\\\n",
    "2250\\\n",
    "**Function Call:**\\\n",
    "function_name(2250)\\\n",
    "**Output:**\\\n",
    "6 years, 2 months and 0 days\n",
    "\n",
    "\n",
    "**Hints:** \\\n",
    "This task’s calculation is similar to Assignment-1’s seconds to hours, minutes conversion."
   ]
  },
  {
   "cell_type": "code",
   "execution_count": 32,
   "metadata": {
    "colab": {},
    "colab_type": "code",
    "id": "gkE9d9gs5D72"
   },
   "outputs": [
    {
     "name": "stdout",
     "output_type": "stream",
     "text": [
      "2250\n",
      "6 years, 2 months and 0 days\n"
     ]
    }
   ],
   "source": [
    "#user define function part:\n",
    "\n",
    "def day_converter(days):\n",
    "    year=days//365\n",
    "    temp=days%365\n",
    "    month=temp//30\n",
    "    day=temp%30\n",
    "    print(year,'years,', month, 'months and', day, 'days')\n",
    "    \n",
    "#input taking part:\n",
    "\n",
    "day_converter(int(input()))"
   ]
  },
  {
   "cell_type": "markdown",
   "metadata": {
    "colab_type": "text",
    "id": "SMPiTBn-5D78"
   },
   "source": [
    "### Task 7\n",
    "Write a function called **splitting_money** that takes an “amount” of money as a argument.\n",
    "\n",
    "Your first task is to take the “amount” of money as user input and pass the value to the function paramater.\n",
    " \n",
    "Your second task is to implement the function and calculate how that money can be split into 500, 100, 50, 20, 10, 5, 2, and 1 taka notes.\n",
    "\n",
    "Then print the returned value in the function call.\n",
    "\n",
    "**Example1:** \\\n",
    "If the money is 1234, then the function should return \n",
    "\n",
    "\"500 Taka: 2 note(s) \\\n",
    "100 Taka: 2 note(s) \\\n",
    "20 Taka: 1 note(s) \\\n",
    "10 Taka: 1 note(s) \\\n",
    "2 Taka: 2 note(s)\"\n",
    "\n",
    "**Example2:** \\\n",
    "If the money is 151, then the function should return\n",
    "\n",
    "\"100 Taka: 1 note(s)\\\n",
    "50 Taka: 1 note(s)\\\n",
    "1 Taka: 1 note(s)\"\n",
    "\n",
    "\n",
    "**Hints:** \\\n",
    "This task’s calculation is similar to Assignment-1’s seconds to hours, minutes conversion. To return the result containing multiple strings, you need to store it in a variable and return it at the end of the function.\n"
   ]
  },
  {
   "cell_type": "code",
   "execution_count": 33,
   "metadata": {
    "colab": {},
    "colab_type": "code",
    "id": "WQS_DPXn5D79"
   },
   "outputs": [
    {
     "name": "stdout",
     "output_type": "stream",
     "text": [
      "1234\n",
      "500 Taka: 2 note(s)\n",
      "100 Taka: 2 note(s)\n",
      "20 Taka: 1 note(s)\n",
      "10 Taka: 1 note(s)\n",
      "2 Taka: 2 note(s)\n",
      "\n"
     ]
    }
   ],
   "source": [
    "#user define function part:\n",
    "\n",
    "def splitting_money(amount):\n",
    "    output=''\n",
    "    \n",
    "    c_500=amount//500\n",
    "    temp1=amount%500\n",
    "    if c_500!=0:\n",
    "        output+='500 Taka: '+str(c_500)+' note(s)\\n'\n",
    "    \n",
    "    c_100=temp1//100\n",
    "    temp2=temp1%100\n",
    "    if c_100!=0:\n",
    "        output+='100 Taka: '+str(c_100)+' note(s)\\n'\n",
    "    \n",
    "    c_50=temp2//50\n",
    "    temp3=temp2%50\n",
    "    if c_50!=0:\n",
    "        output+='50 Taka: '+str(c_50)+' note(s)\\n'\n",
    "    \n",
    "    c_20=temp3//20\n",
    "    temp4=temp3%20\n",
    "    if c_20!=0:\n",
    "        output+='20 Taka: '+str(c_20)+' note(s)\\n'\n",
    "    \n",
    "    c_10=temp4//10\n",
    "    temp5=temp4%10\n",
    "    if c_10!=0:\n",
    "        output+='10 Taka: '+str(c_10)+' note(s)\\n'\n",
    "    \n",
    "    c_2=temp5//2\n",
    "    temp6=temp5%2\n",
    "    if c_2!=0:\n",
    "        output+='2 Taka: '+str(c_2)+' note(s)\\n'\n",
    "    \n",
    "    c_1=temp6//1\n",
    "    if c_1!=0:\n",
    "        output+='1 Taka: '+str(c_1)+' note(s)\\n'\n",
    "    \n",
    "    return output\n",
    "\n",
    "#input taking and output printing part:\n",
    "\n",
    "print(splitting_money(int(input())))"
   ]
  },
  {
   "cell_type": "markdown",
   "metadata": {
    "colab_type": "text",
    "id": "8-vvES0i5D8B"
   },
   "source": [
    "### Task 8\n",
    "Write a function called **show_palindrome** that takes a number as an argument and then returns a palindrome string. Finally, prints the returned value in the function call.\n",
    "\n",
    "**Example1:** \\\n",
    "**Function Call:**\\\n",
    "show_palindrome(5)\\\n",
    "**Output:**\\\n",
    "123454321\n",
    "\n",
    "===================\n",
    "\n",
    "**Example2:** \\\n",
    "**Function Call:**\\\n",
    "show_palindrome(3)\\\n",
    "**Output:**\\\n",
    "12321\n"
   ]
  },
  {
   "cell_type": "code",
   "execution_count": 71,
   "metadata": {
    "colab": {},
    "colab_type": "code",
    "id": "QN-Iu8sz5D8C"
   },
   "outputs": [
    {
     "name": "stdout",
     "output_type": "stream",
     "text": [
      "5\n",
      "123454321"
     ]
    }
   ],
   "source": [
    "#user define function part:\n",
    "\n",
    "def show_palindrome(num):\n",
    "    for i in range(1,num+1):\n",
    "        print(i,end='')\n",
    "    for j in range(num-1,0,-1):\n",
    "        print(j,end='')\n",
    "    \n",
    "#input taking part:\n",
    "\n",
    "show_palindrome(int(input()))"
   ]
  },
  {
   "cell_type": "markdown",
   "metadata": {
    "colab_type": "text",
    "id": "V_PVNpx45D8F"
   },
   "source": [
    "### Task 9\n",
    "Write a function called **show_palindromic_triangle** that takes a number as a argument and prints a Palindromic Triangle in the function. \n",
    "\n",
    "\n",
    "**Example1:** \\\n",
    "**Function Call:**\\\n",
    "show_palindromic_triangle(5)\\\n",
    "**Output:**\n",
    "\n",
    "&emsp; &emsp; &emsp; &emsp; 1\\\n",
    "&emsp; &emsp; &emsp; 1 &nbsp; 2 &nbsp; 1 \\\n",
    "&emsp; &emsp; 1 &nbsp; 2 &nbsp; 3 &nbsp; 2 &nbsp; 1 \\\n",
    "&emsp; 1 &nbsp; 2 &nbsp; 3 &nbsp; 4 &nbsp; 3 &nbsp; 2 &nbsp; 1 \\\n",
    "1 &nbsp; 2 &nbsp; 3 &nbsp; 4 &nbsp; 5 &nbsp; 4 &nbsp; 3 &nbsp; 2 &nbsp; 1\n",
    "\n",
    "=============================================================\n",
    "\n",
    "\n",
    "**Example1:** \\\n",
    "**Function Call:**\\\n",
    "show_palindromic_triangle(3)\\\n",
    "**Output:**\n",
    "\n",
    "&emsp; &emsp; 1 \\\n",
    "&emsp; 1 &nbsp; 2 &nbsp; 1 \\\n",
    "1 &nbsp; 2 &nbsp; 3 &nbsp; 2 &nbsp; 1\n",
    "\n",
    "\n",
    "**Hints:** \\\n",
    "Need to use both print() and print( , end = \" \") functions"
   ]
  },
  {
   "cell_type": "code",
   "execution_count": 48,
   "metadata": {
    "colab": {},
    "colab_type": "code",
    "id": "fUu0BrHz5D8G"
   },
   "outputs": [
    {
     "name": "stdout",
     "output_type": "stream",
     "text": [
      "        1 \n",
      "      1 2 1\n",
      "    1 2 3 2 1\n",
      "  1 2 3 4 3 2 1\n",
      "1 2 3 4 5 4 3 2 1\n"
     ]
    }
   ],
   "source": [
    "# to do\n",
    "def show_palindromic_triangle(number):\n",
    "    for row in range(1,number+1):\n",
    "        for space in range(number,row,-1):\n",
    "            print('  ', end='')\n",
    "        for first_num in range(1,row+1):\n",
    "            print(first_num,end=' ')\n",
    "        for second_num in range(row-1,0,-1):\n",
    "            if second_num==1:\n",
    "                print(second_num,end='')\n",
    "            else:\n",
    "                print(second_num,end=' ')\n",
    "        print()\n",
    "\n",
    "show_palindromic_triangle(5)"
   ]
  },
  {
   "cell_type": "markdown",
   "metadata": {
    "colab_type": "text",
    "id": "iLTMEWXg5D8M"
   },
   "source": [
    "### Task 10\n",
    "Write a function called **area_circumference_generator** that takes a radius of a circle as a  function parameter and calculates its circumference and area. Then returns these two results as a **tuple** and prints the results using tuple unpacking in the function call accorrding to the given format. <font color='red'>[Must use tuple packing & unpacking] </font> \n",
    "\n",
    "**Example1:** \\\n",
    "**Function Call:**\\\n",
    "area_circumference_generator(1)\\\n",
    "**Output:**\\\n",
    "(3.141592653589793, 6.283185307179586)\\\n",
    "Area of the circle is 3.141592653589793 and circumference is 6.283185307179586\n",
    "\n",
    "====================================\n",
    "\n",
    "**Example2:** \\\n",
    "**Function Call:**\\\n",
    "area_circumference_generator(1.5)\\\n",
    "**Output:**\\\n",
    "(7.0685834705770345, 9.42477796076938)\\\n",
    "Area of the circle is 7.0685834705770345 and circumference is 9.42477796076938\n",
    "\n",
    "====================================\n",
    "\n",
    "\n",
    "**Example3:** \\\n",
    "**Function Call:**\\\n",
    "area_circumference_generator(2.5)\\\n",
    "**Output:**\\\n",
    "(19.634954084936208, 15.707963267948966)\\\n",
    "Area of the circle is 19.634954084936208 and circumference is 15.707963267948966\n"
   ]
  },
  {
   "cell_type": "code",
   "execution_count": 72,
   "metadata": {
    "colab": {},
    "colab_type": "code",
    "id": "k8SLTHf35D8N"
   },
   "outputs": [
    {
     "name": "stdout",
     "output_type": "stream",
     "text": [
      "2.5\n",
      "(19.634954084936208, 15.707963267948966)\n",
      "Area of the circle is 19.634954084936208 and circumference is 15.707963267948966\n"
     ]
    }
   ],
   "source": [
    "#user define function part:\n",
    "\n",
    "import math\n",
    "def area_circumference_generator(rad):\n",
    "    return math.pi*rad*rad, 2*math.pi*rad\n",
    "\n",
    "#input taking and output printing part:\n",
    "\n",
    "user_in=float(input())\n",
    "print(area_circumference_generator(user_in))\n",
    "area,cir = area_circumference_generator(user_in)\n",
    "print('Area of the circle is',area, 'and circumference is',cir)"
   ]
  },
  {
   "cell_type": "markdown",
   "metadata": {
    "colab_type": "text",
    "id": "NpgEU6ZI5D8S"
   },
   "source": [
    "### Task 11\n",
    "Write a function called **make_square** that takes a tuple in the parameter as a range of numbers (starting point and ending point (included)). The function should **return a dictionary** with the numbers as keys and its squares as values.\n",
    "\n",
    "**Example1:** \\\n",
    "**Function Call:**\\\n",
    "make_square((1,3))\\\n",
    "**Output:**\\\n",
    "{1: 1, 2: 4, 3: 9}\n",
    "\n",
    "====================================\n",
    "\n",
    "**Example2:** \\\n",
    "**Function Call:**\\\n",
    "make_square((5,9))\\\n",
    "**Output:**\\\n",
    "{5: 25, 6: 36, 7: 49, 8: 64, 9: 81}\n",
    "\n",
    "\n",
    "\n",
    "**Hints:** \\\n",
    "You need to declare a dictionary to store the result. You should use the range function to run the “for loop”.\n"
   ]
  },
  {
   "cell_type": "code",
   "execution_count": 3,
   "metadata": {
    "colab": {},
    "colab_type": "code",
    "id": "-KGD8b0F5D8T"
   },
   "outputs": [
    {
     "name": "stdout",
     "output_type": "stream",
     "text": [
      "{5: 25, 6: 36, 7: 49, 8: 64, 9: 81}\n"
     ]
    }
   ],
   "source": [
    "#user define function part:\n",
    "\n",
    "def make_square(user_range):\n",
    "    out_dict={}\n",
    "    for i in range(user_range[0],user_range[1]+1):\n",
    "        out_dict.update({i:(i**2)})\n",
    "    return out_dict\n",
    "\n",
    "#input taking and output printing part:\n",
    "\n",
    "print(make_square((5,9)))"
   ]
  },
  {
   "cell_type": "markdown",
   "metadata": {
    "colab_type": "text",
    "id": "ZSdXyrvP5D8X"
   },
   "source": [
    "### Task 12\n",
    "Write a function called **remove_odd** that takes a list of numbers that have both even and odd numbers mixed. \\\n",
    "Your function should remove all the odd numbers and **return a compact list** which only contains the even numbers. \n",
    "\n",
    "**Example1:** \\\n",
    "**Function Call:**\\\n",
    "remove_odd ([21, 33, 44, 66, 11, 1, 88, 45, 10, 9])\\\n",
    "**Output:**\\\n",
    "[44, 66, 88, 10]\n",
    "\n",
    "====================================\n",
    "\n",
    "**Example2:** \\\n",
    "**Function Call:**\\\n",
    "remove_odd ([11,2,3,4,5,2,0,5,3])\\\n",
    "**Output:**\\\n",
    "[2, 4, 2, 0]\n",
    "\n"
   ]
  },
  {
   "cell_type": "code",
   "execution_count": 1,
   "metadata": {
    "colab": {},
    "colab_type": "code",
    "id": "7gfZ__Nx5D8X"
   },
   "outputs": [
    {
     "name": "stdout",
     "output_type": "stream",
     "text": [
      "[44, 66, 88, 10]\n"
     ]
    }
   ],
   "source": [
    "#user define function part:\n",
    "\n",
    "def remove_odd(numbers):\n",
    "    out_list=[]\n",
    "    for i in numbers:\n",
    "        if i%2==0:\n",
    "            out_list.append(i)\n",
    "    return out_list\n",
    "\n",
    "#input taking and output printing part:\n",
    "\n",
    "print(remove_odd([21, 33, 44, 66, 11, 1, 88, 45, 10, 9]))"
   ]
  },
  {
   "cell_type": "markdown",
   "metadata": {
    "colab_type": "text",
    "id": "J7xaBB5i5D8c"
   },
   "source": [
    "### Task 13\n",
    "Write a function called **rem_duplicate** that takes a tuple in the parameter and return a tuple removing all the duplicate values. Then print the returned tuple in the function call.\n",
    "\n",
    "**Example1:** \\\n",
    "**Function Call:**\\\n",
    "rem_duplicate((1,1,1,2,3,4,5,6,6,6,6,4,0,0,0))\\\n",
    "**Output:**\\\n",
    "(1, 2, 3, 4, 5, 6, 0)\n",
    "\n",
    "====================================\n",
    "\n",
    "**Example2:** \\\n",
    "**Function Call:**\\\n",
    "rem_duplicate((\"Hi\", 1, 2, 3, 3, \"Hi\",'a', 'a', [1,2]))\\\n",
    "**Output:**\\\n",
    "('Hi', 1, 2, 3, 'a', [1, 2])\n",
    "\n",
    "\n",
    "**Hints:** \\\n",
    "Unlike lists, tuples are immutable so, the tuple taken as an argument cannot be modified. But list can be modified and lastly for returning the result use type conversion. You need to use membership operators (in, not in) for preventing adding any duplicates values.\n"
   ]
  },
  {
   "cell_type": "code",
   "execution_count": 4,
   "metadata": {
    "colab": {},
    "colab_type": "code",
    "id": "mniLLbJY5D8d"
   },
   "outputs": [
    {
     "name": "stdout",
     "output_type": "stream",
     "text": [
      "('Hi', 1, 2, 3, 'a', [1, 2])\n"
     ]
    }
   ],
   "source": [
    "#user define function part:\n",
    "\n",
    "def rem_duplicate(user_tuple):\n",
    "    out_list=[]\n",
    "    for i in user_tuple:\n",
    "        if i not in out_list:\n",
    "            out_list.append(i)\n",
    "    return tuple(out_list)\n",
    "\n",
    "#input taking and output printing part:\n",
    "\n",
    "print(rem_duplicate((\"Hi\", 1, 2, 3, 3, \"Hi\",'a', 'a', [1,2])))"
   ]
  },
  {
   "cell_type": "markdown",
   "metadata": {
    "colab_type": "text",
    "id": "yJxb2yrb5D8h"
   },
   "source": [
    "### Task 14\n",
    "Write a python function that takes a list as an argument. Your task is to create a new list where **each element can be present at max 2 times**. Inside the function, print the number of elements removed from the given list. Finally, return the new list and print the result.\n",
    "\n",
    "**Hint:** Use list_name.count(element) to count the total number of times an element is in a list. list_name is your new list for this problem.\n",
    "\n",
    "**Function Call:**\\\n",
    "function_name([1, 2, 3, 3, 3, 3, 4, 5, 8, 8])\\\n",
    "**Output:**\\\n",
    "Removed: 2\\\n",
    "[1, 2, 3, 3, 4, 5, 8, 8]\\\n",
    "================================\\\n",
    "**Function Call:**\\\n",
    "function_name([10, 10, 15, 15, 20])\\\n",
    "**Output:**\\\n",
    "Removed: 0\\\n",
    "[10, 10, 15, 15, 20]"
   ]
  },
  {
   "cell_type": "code",
   "execution_count": 59,
   "metadata": {
    "colab": {},
    "colab_type": "code",
    "id": "URBhYdgt5D8h"
   },
   "outputs": [
    {
     "name": "stdout",
     "output_type": "stream",
     "text": [
      "Removed: 2\n",
      "[1, 2, 3, 3, 4, 5, 8, 8]\n"
     ]
    }
   ],
   "source": [
    "#user define function part:\n",
    "\n",
    "def max_2_list(user_list):\n",
    "    out_list=[]\n",
    "    remove_count=0\n",
    "    for i in user_list:\n",
    "        if out_list.count(i)<2:\n",
    "             out_list.append(i)\n",
    "        else:\n",
    "            remove_count+=1\n",
    "    print('Removed:', remove_count)\n",
    "    return out_list\n",
    "\n",
    "#input taking and output printing part:\n",
    "\n",
    "print(max_2_list([1, 2, 3, 3, 3, 3, 4, 5, 8, 8]))"
   ]
  },
  {
   "cell_type": "markdown",
   "metadata": {
    "colab_type": "text",
    "id": "oZRJfnm85D8m"
   },
   "source": [
    "### Task 15\n",
    "Write a function which will take 4 arguments. They are:\n",
    "- starting value(inclusive)\n",
    "- ending value(exclusive)\n",
    "- first divisor\n",
    "- second divisor\n",
    "\n",
    "Your first task is to take these arguments as user input and pass these values to the function.\n",
    "\n",
    "Your second task is to implement the function and find all the numbers that are divisible by the <u>first divisor or second divisor but not both</u> from the starting value(inclusive) and ending value(exclusive). Add all the numbers that are divisible and finally return this value. Print the returned value in the function call.\n",
    "\n",
    "**Input:**\\\n",
    "10\\\n",
    "40\\\n",
    "4\\\n",
    "7\\\n",
    "**Function Call:**\\\n",
    "function_name(10, 40, 4, 7)\\\n",
    "**Output:**\\\n",
    "210\\\n",
    "================================\\\n",
    "**Input:**\\\n",
    "5\\\n",
    "100\\\n",
    "3\\\n",
    "4\\\n",
    "**Function Call:**\\\n",
    "function_name(5, 100, 3, 4)\\\n",
    "**Output:**\\\n",
    "2012\n",
    "\n",
    "\n"
   ]
  },
  {
   "cell_type": "code",
   "execution_count": 61,
   "metadata": {
    "colab": {},
    "colab_type": "code",
    "id": "WStErxZP5D8m"
   },
   "outputs": [
    {
     "name": "stdout",
     "output_type": "stream",
     "text": [
      "5\n",
      "100\n",
      "3\n",
      "4\n",
      "2012\n"
     ]
    }
   ],
   "source": [
    "#user define function part:\n",
    "\n",
    "def adding_func(start, end, first, second):\n",
    "    output=0\n",
    "    for i in range(start, end):\n",
    "        if (i%first==0 and i%second!=0) or (i%first!=0 and i%second==0):\n",
    "            output+=i\n",
    "    return output\n",
    "\n",
    "#input taking and output printing part:\n",
    "\n",
    "print(adding_func(int(input()), int(input()), int(input()), int(input())))"
   ]
  },
  {
   "cell_type": "markdown",
   "metadata": {
    "colab_type": "text",
    "id": "vqET24dk5D8u"
   },
   "source": [
    "### Task 16\n",
    "Write a python function that will perform the basic calculation (addition, subtraction, multiplication and division) based on 3 arguments. They are:\n",
    "- Operator ('+', '-', '/', '*')\n",
    "- First Operand (any number)\n",
    "- Second Operand (any number)\n",
    "\n",
    "Your first task is to take these arguments as user input and pass the values to the function parameters.\n",
    "\n",
    "Your second task is to write a function and performs the calculation based on the given operator. Then, finally return the result in the function call and print the result.\n",
    "\n",
    "**Input:**\\\n",
    "\"+\"\\\n",
    "10\\\n",
    "20\\\n",
    "**Function Call:**\\\n",
    "function_name(\"+\", 10, 20)\\\n",
    "**Output:**\\\n",
    "30\n",
    "\n",
    "================================\n",
    "\n",
    "**Input:**\\\n",
    "\"*\"\\\n",
    "5.5\\\n",
    "2.5\\\n",
    "**Function Call:**\\\n",
    "function_name(\"*\", 5.5, 2.5)\\\n",
    "**Output:**\\\n",
    "13.75\n"
   ]
  },
  {
   "cell_type": "code",
   "execution_count": 43,
   "metadata": {
    "colab": {},
    "colab_type": "code",
    "id": "sh7YQRv_5D8v"
   },
   "outputs": [
    {
     "name": "stdout",
     "output_type": "stream",
     "text": [
      "*\n",
      "5.5\n",
      "2.5\n",
      "13.75\n"
     ]
    }
   ],
   "source": [
    "#user define function part:\n",
    "\n",
    "def calculation(op, first, second):\n",
    "    if op=='+':\n",
    "        return first+second\n",
    "    elif op=='-':\n",
    "        return first-second\n",
    "    elif op=='*':\n",
    "        return first*second\n",
    "    elif op=='/':\n",
    "        return first/second\n",
    "\n",
    "#input taking and output printing part:\n",
    "\n",
    "print(calculation(input(), float(input()), float(input())))"
   ]
  },
  {
   "cell_type": "markdown",
   "metadata": {
    "colab_type": "text",
    "id": "j6RsRgJP5D8y"
   },
   "source": [
    "### Task 17\n",
    "Write a python function which will take a string as an argument. \n",
    "\n",
    "Your first task is to take a string as user input and pass the value to the function.\n",
    "\n",
    "Your second task is to implement a function which will check whether all the alphabets from a to j (convert all the alphabets to lowercase) has appeared at least once in the given string or not. \n",
    "- If all of these alphabets (a to j) appear at least once, then the result will be 5. \n",
    "- If any one of the alphabets (a to j) is not in the given string, then the result will be 6.\n",
    "\n",
    "Return this result and print the statement, \"Chelsea is the best club in England\" that many times.\n",
    "\n",
    "**Example:**\n",
    "\"A black jackal is hunting a full grown deer\" \n",
    "\n",
    "Here all the alphabets from A to J are present at least once. So, the function will return 5 and will print the statement 5 times.\n",
    "\n",
    "**Input:**\\\n",
    "\"A black jackal is hunting a full grown deer\"\\\n",
    "**Function Call:**\\\n",
    "function_name(\"A black jackal is hunting a full grown deer\")\\\n",
    "**Output:**\\\n",
    "Chelsea is the best club in England\\\n",
    "Chelsea is the best club in England\\\n",
    "Chelsea is the best club in England\\\n",
    "Chelsea is the best club in England\\\n",
    "Chelsea is the best club in England\n",
    "\n",
    "==============================================\n",
    "\n",
    "**Input:**\\\n",
    "\"ABBCDEFEFGHI\"\\\n",
    "**Function Call:**\\\n",
    "function_name(\"ABBCDEFEFGHI\")\\\n",
    "**Output:**\\\n",
    "Chelsea is the best club in England\\\n",
    "Chelsea is the best club in England\\\n",
    "Chelsea is the best club in England\\\n",
    "Chelsea is the best club in England\\\n",
    "Chelsea is the best club in England\\\n",
    "Chelsea is the best club in England\n"
   ]
  },
  {
   "cell_type": "code",
   "execution_count": 5,
   "metadata": {
    "colab": {},
    "colab_type": "code",
    "id": "8u2sBE7c5D8z"
   },
   "outputs": [
    {
     "name": "stdout",
     "output_type": "stream",
     "text": [
      "A black jackal is hunting a full grown deer\n",
      "Chelsea is the best club in England\n",
      "Chelsea is the best club in England\n",
      "Chelsea is the best club in England\n",
      "Chelsea is the best club in England\n",
      "Chelsea is the best club in England\n"
     ]
    }
   ],
   "source": [
    "#user define function part:\n",
    "\n",
    "def case_a_to_j(string):\n",
    "    temp=string.lower()\n",
    "    count=0\n",
    "    for i in range(97,107):\n",
    "        if chr(i) in temp:\n",
    "            count+=1\n",
    "    if count==10:\n",
    "        return 5\n",
    "    else:\n",
    "        return 6\n",
    "\n",
    "#input taking and output printing part:\n",
    "\n",
    "for i in range(case_a_to_j(input())):\n",
    "    print('Chelsea is the best club in England')"
   ]
  },
  {
   "cell_type": "markdown",
   "metadata": {
    "colab_type": "text",
    "id": "KGitjtfO5D83"
   },
   "source": [
    "### Task 18\n",
    "Write a function which will take 2 arguments. They are:\n",
    "- Sentence \n",
    "- position \n",
    "\n",
    "Your first task is to take these arguments as user input and pass these values to the function parameters.\n",
    "\n",
    "Your second task is to implement the function and remove the characters at the index number which is divisible by the position (Avoid the index number 0 as it will always be divisible by the position, so no need to remove the index 0 character). \n",
    "Finally, add the removed characters at the end of the new string.\n",
    "\n",
    "Return the value and then finally, print the new string at the function call.\n",
    "\n",
    "**Input:**\\\n",
    "\"I love programming.\"\\\n",
    "3\\\n",
    "**Function call:**\\\n",
    "function_name(\"I love programming.\", 3)\\\n",
    "**Output:**\\\n",
    "I lveprgrmmngo oai.\n",
    "\n",
    "==============================================\n",
    "\n",
    "**Input:**\\\n",
    "\"Python is easy to learn. I love python.\"\\\n",
    "6\\\n",
    "**Function call:**\\\n",
    "function_name(\"Python is easy to learn. I love python.\", 6)\\\n",
    "**Output:**\\\n",
    "Pythonis eay to earn.I lov pythn. sl eo\n"
   ]
  },
  {
   "cell_type": "code",
   "execution_count": 44,
   "metadata": {
    "colab": {},
    "colab_type": "code",
    "id": "1Op6YcHY5D84"
   },
   "outputs": [
    {
     "name": "stdout",
     "output_type": "stream",
     "text": [
      "Python is easy to learn. I love python.\n",
      "6\n",
      "Pythonis eay to earn.I lov pythn. sl eo\n"
     ]
    }
   ],
   "source": [
    "#user define function part:\n",
    "\n",
    "def func(sentence, position):\n",
    "    non_div_str=''\n",
    "    div_str=''\n",
    "    for i in range(len(sentence)):\n",
    "        if i==0:\n",
    "            non_div_str+=sentence[i]\n",
    "        elif i%position==0:\n",
    "            div_str+=sentence[i]\n",
    "        else:\n",
    "            non_div_str+=sentence[i]\n",
    "\n",
    "    out_str=non_div_str+div_str\n",
    "    return out_str\n",
    "\n",
    "#input taking and output printing part:\n",
    "\n",
    "print(func(input(), int(input())))"
   ]
  },
  {
   "cell_type": "markdown",
   "metadata": {
    "colab_type": "text",
    "id": "5Gq0ZAzQ5D8-"
   },
   "source": [
    "### Task 19\n",
    "You have been hired as an app developer for the company karon_tumi_bekar. The company plans to make an app for a grocery store where the user can order groceries and see the total amount to be paid in the cart section. \n",
    "\n",
    "To build this feature, you have to write a function that takes 2 arguments. They are:\n",
    "- order_items (must be a list)\n",
    "- location (default value should be set to \"Dhanmondi\")\n",
    "\n",
    "Your first task is to take a list of items from the user. Pass the list into the function parameter along with the optional location (Use default argument technique). (Also, no need to take location as input, pass this any value you want.) \n",
    "\n",
    "Your second task is to implement the function. In the function, create a dictionary for the items shown in the table. Calculate the total price of the items passed as a list to the function. Additionally, add a delivery fee of 30 taka if the location is Dhanmondi. Otherwise, add a delivery fee of 70 taka. Finally, return the value and print it.\n",
    "\n",
    "| Item | Price(Tk) |\n",
    "| --- | --- |\n",
    "| Rice | 105 |\n",
    "| Potato | 20 |\n",
    "| Chicken | 250 |\n",
    "| Beef | 510 |\n",
    "| Oil | 85 |\n",
    "\n",
    "**Hint:** The keys are the items and values are the corresponding price. Iterate the items in the list and check if the items in the list are available in the dictionary keys or not. If it is available, add the price.\n",
    "\n",
    "**Example:**\\\n",
    "function_name([\"Rice\", \"Beef\", \"Rice\"], \"Mohakhali\")\n",
    "\n",
    "total = 105 + 510 + 105 = 720 (Take the price of each item and add them.)\\\n",
    "total = 720 + 70 = 790 (Finally, add the delivery fee based on the location.)\n",
    "\n",
    "**Input:**\\\n",
    "[\"Rice\", \"Beef\", \"Rice\"]\\\n",
    "**Function Call:**\\\n",
    "function_name([\"Rice\", \"Beef\", \"Rice\"], \"Mohakhali\")\\\n",
    "**Output:**\\\n",
    "790\n",
    "\n",
    "==============================================\n",
    "\n",
    "**Input:**\\\n",
    "[\"Rice\", \"Beef\", \"Rice\"]\\\n",
    "**Function Call:**\\\n",
    "function_name([\"Rice\", \"Beef\", \"Rice\"])\\\n",
    "**Output:**\\\n",
    "750"
   ]
  },
  {
   "cell_type": "code",
   "execution_count": 2,
   "metadata": {
    "colab": {},
    "colab_type": "code",
    "id": "-vQ3gIWm5D8-"
   },
   "outputs": [
    {
     "name": "stdout",
     "output_type": "stream",
     "text": [
      "Rice, Beef, Rice\n",
      "Mohakhali\n",
      "790\n"
     ]
    }
   ],
   "source": [
    "#user define function part:\n",
    "\n",
    "def bekar_shop_calculation(order_items,location='Dhanmondi'):\n",
    "    total=0\n",
    "    dict_items={'Rice':105, 'Potato':20, 'Chicken':250, 'Beef':510, 'Oil':85}\n",
    "    for key in order_items:\n",
    "        if key in dict_items.keys():\n",
    "            total+=dict_items[key]\n",
    "    if location=='Dhanmondi' or location=='':\n",
    "        total+=30\n",
    "    else:\n",
    "        total+=70\n",
    "    return total\n",
    "\n",
    "#input taking and output printing part:\n",
    "\n",
    "user_in=input()\n",
    "items_list=user_in.split(', ')\n",
    "print(bekar_shop_calculation(items_list,input()))"
   ]
  },
  {
   "cell_type": "markdown",
   "metadata": {
    "colab_type": "text",
    "id": "XGLNNSH25D9B"
   },
   "source": [
    "### Task 20\n",
    "You have been hired by the Abahani football club to write a function that will calculate the total bonus on the yearly earnings of each player for the total goals they have scored. Since the number of players will vary, you decide to use the \"*args\" technique that you learned in your CSE110 class. (No need to take any input from the user. Call the functions and print the values inside the function.) \n",
    "For each player: pass the name, yearly earning, the total goal scored this season, bonus percent per goal. Additionally, if the goal scored is above 30, add an extra bonus of 10000 taka. If it is between 20 and 30 inclusive, add an extra 5000 taka.\n",
    "\n",
    "**Example:**\\\n",
    "function_name(\"Neymar\", 1200000, 30, 10)\n",
    "\n",
    "bonus = 30 * (10 / 100 * 1200000) + 5000 = 3605000\n",
    "\n",
    "**Function call:**\\\n",
    "function_name(\"Neymar\", 1200000, 30, 10)\\\n",
    "**Output:**\\\n",
    "Neymar earned a bonus of 3605000 Taka for 30 goals.\n",
    "\n",
    "=====================================================\n",
    "\n",
    "**Function call:**\\\n",
    "function_name(\"Neymar\", 1200000, 30, 10, \"Jamal\", 700000, 19, 5)\\\n",
    "**Output:**\\\n",
    "Neymar earned a bonus of 3605000 Taka for 30 goals.\\\n",
    "Jamal earned a bonus of 665000 Taka for 19 goals.\n",
    "\n",
    "\n",
    "\n"
   ]
  },
  {
   "cell_type": "code",
   "execution_count": 5,
   "metadata": {
    "colab": {},
    "colab_type": "code",
    "id": "IIz3msUa5D9B"
   },
   "outputs": [
    {
     "name": "stdout",
     "output_type": "stream",
     "text": [
      "Neymar earned a bonus of 3605000.0 Taka for 30 goals.\n",
      "Jamal earned a bonus of 665000.0 Taka for 19 goals.\n"
     ]
    }
   ],
   "source": [
    "#user define function part:\n",
    "\n",
    "def bonus_calc(*info):\n",
    "    name=[]\n",
    "    earning=[]\n",
    "    total_goal=[]\n",
    "    bonus_per=[]\n",
    "    for i in range(len(info)):\n",
    "        if i%4==0:\n",
    "            name.append(info[i])\n",
    "        elif (i+3)%4==0:\n",
    "            earning.append(info[i])\n",
    "        elif (i+2)%4==0:\n",
    "            total_goal.append(info[i])\n",
    "        elif (i+1)%4==0:\n",
    "            bonus_per.append(info[i])\n",
    "    \n",
    "    for bon in range(len(name)):\n",
    "        if total_goal[bon]>30:\n",
    "            bonus = total_goal[bon]*(bonus_per[bon]/100*earning[bon])+10000\n",
    "            print(name[bon], 'earned a bonus of', bonus, 'Taka for', total_goal[bon], 'goals.')\n",
    "        \n",
    "        elif total_goal[bon]<=30 and total_goal[bon]>20:\n",
    "            bonus = total_goal[bon]*(bonus_per[bon]/100*earning[bon])+5000\n",
    "            print(name[bon], 'earned a bonus of', bonus, 'Taka for', total_goal[bon], 'goals.')\n",
    "        \n",
    "        else:\n",
    "            bonus = total_goal[bon]*(bonus_per[bon]/100*earning[bon])\n",
    "            print(name[bon], 'earned a bonus of', bonus, 'Taka for', total_goal[bon], 'goals.')\n",
    "\n",
    "#input taking and output printing part:\n",
    "\n",
    "bonus_calc(\"Neymar\", 1200000, 30, 10, \"Jamal\", 700000, 19, 5)"
   ]
  },
  {
   "cell_type": "code",
   "execution_count": null,
   "metadata": {
    "colab": {},
    "colab_type": "code",
    "id": "U6SYD49C5D9E"
   },
   "outputs": [],
   "source": []
  }
 ],
 "metadata": {
  "colab": {
   "collapsed_sections": [],
   "name": "CSE110 Assignment05.ipynb",
   "provenance": []
  },
  "kernelspec": {
   "display_name": "Python 3",
   "language": "python",
   "name": "python3"
  },
  "language_info": {
   "codemirror_mode": {
    "name": "ipython",
    "version": 3
   },
   "file_extension": ".py",
   "mimetype": "text/x-python",
   "name": "python",
   "nbconvert_exporter": "python",
   "pygments_lexer": "ipython3",
   "version": "3.7.6"
  }
 },
 "nbformat": 4,
 "nbformat_minor": 1
}
